{
  "nbformat": 4,
  "nbformat_minor": 0,
  "metadata": {
    "colab": {
      "name": "Sprint 1.1 - VulfocusAutomate.ipynb",
      "provenance": [],
      "collapsed_sections": [],
      "authorship_tag": "ABX9TyM0eegjufAqZTj8MoIFI0wa",
      "include_colab_link": true
    },
    "kernelspec": {
      "name": "python3",
      "display_name": "Python 3"
    },
    "language_info": {
      "name": "python"
    }
  },
  "cells": [
    {
      "cell_type": "markdown",
      "metadata": {
        "id": "view-in-github",
        "colab_type": "text"
      },
      "source": [
        "<a href=\"https://colab.research.google.com/github/HaleBera/Container-Attack-Dataset/blob/main/Sprint_1_1_VulfocusAutomate.ipynb\" target=\"_parent\"><img src=\"https://colab.research.google.com/assets/colab-badge.svg\" alt=\"Open In Colab\"/></a>"
      ]
    },
    {
      "cell_type": "markdown",
      "source": [
        "***Sprint 1*** =>  \"*RAISE OF VULFOCUS*\" \n",
        "\n",
        "  1. It can only start a single image on vulfocus, and carry out a single attack (Sprint 1.1 => make it to run multicontainers, so that multiple nuclei attacks) **(COMPLETED)** ***(by Buğra Alparslan  https://github.com/iambugra/vulfocus_automater\n",
        ")***\n",
        "  2. Not capable of taking input-output from the command line (Sprint 1.2 => convert some of the staticly assigned variables to be assigned by the parameters that is given together with the run command)\n",
        "  3. Currently, it requests to the web (vulfocus.io), we need to make it run locally (Sprint 1.3 => https://github.com/fofapro/vulfocus/blob/master/INSTALL.md 'den bul bir yolunu :) )\n",
        "\n",
        "\n",
        "\n"
      ],
      "metadata": {
        "id": "r2MPt3noL5Sd"
      }
    },
    {
      "cell_type": "markdown",
      "source": [
        "***Sprint 1.1:*** INPUT & OUTPUT  **(COMPLETED  https://github.com/iambugra/vulfocus_automater\n",
        ")**\n",
        "\n",
        "Some variables should be given as an input to the program:\n",
        "\n",
        "1.   Sytem Path Info (String): '/home/hale/Desktop/TEST_ENVIRONMENT/Vulfocus/vulfocus_automater-master/vulfocusAutomate'\n",
        "2.   File of Image List's Path Info (String): './readyToAttackImages.txt'\n",
        "3.   File of Nuclei Attack List's Path Info (String): './readyToAttackNucleiTemplates.txt'\n",
        "4.   File where Nuclei exports its results (String):'./nuclei_results'\n",
        "     (We need a mini coding that will add the date-time info at the end of the results file name i.e. nuclei_results_10-04-2022_14:26)\n",
        "\n",
        "     \n",
        "\n",
        " "
      ],
      "metadata": {
        "id": "HlTVN9Pvuqtq"
      }
    },
    {
      "cell_type": "markdown",
      "source": [
        ""
      ],
      "metadata": {
        "id": "RddqgY00LeWE"
      }
    },
    {
      "cell_type": "markdown",
      "source": [
        "***Sprint 1.2:*** MULTI-CONTAINER\n",
        "\n",
        "Some coding segments are needed to be rewrited to be able to start multiple containers at the same time (Or if is not possible \"at the same time\", atleast, we may try to *properly* start and close one-by-one)\n",
        "\n",
        "\n",
        "*   ## START CONTAINER\n",
        "\n",
        "\n",
        "> ```\n",
        "> # startedContainer = clinet.start_container(imageLine)\n",
        "> ```\n",
        "  \n",
        "      \n",
        "*   ## STOP AND DELETE CONTAINER\n",
        "        #print(clinet.stop_container(imageLine))\n",
        "        #print(clinet.delete_container(imageLine))\n",
        "\n",
        "        \n",
        "\n",
        "NOTE: Currently it enables max 3 containers active at the same time"
      ],
      "metadata": {
        "id": "zDNKcWJt7HFE"
      }
    },
    {
      "cell_type": "markdown",
      "source": [
        "***Sprint 1.3:*** LOCALIZE VULFOCUS\n",
        "\n",
        "https://github.com/fofapro/vulfocus/blob/master/INSTALL.md\n",
        "\n",
        "  - Install a Mysql server local\n",
        "  - Integrate it with Vulfocus\n",
        "  - May be try it installing on a VM\n",
        "\n",
        "\n",
        "\n"
      ],
      "metadata": {
        "id": "hbEnB-qSVTmi"
      }
    },
    {
      "cell_type": "code",
      "execution_count": null,
      "metadata": {
        "id": "pu0ZomD_ohCK",
        "colab": {
          "base_uri": "https://localhost:8080/",
          "height": 373
        },
        "outputId": "17e28f5c-456c-4a66-cf86-79c3011c77e6"
      },
      "outputs": [
        {
          "output_type": "error",
          "ename": "ModuleNotFoundError",
          "evalue": "ignored",
          "traceback": [
            "\u001b[0;31m---------------------------------------------------------------------------\u001b[0m",
            "\u001b[0;31mModuleNotFoundError\u001b[0m                       Traceback (most recent call last)",
            "\u001b[0;32m<ipython-input-1-8aab62db1c36>\u001b[0m in \u001b[0;36m<module>\u001b[0;34m()\u001b[0m\n\u001b[1;32m      4\u001b[0m \u001b[0;32mimport\u001b[0m \u001b[0mos\u001b[0m\u001b[0;34m\u001b[0m\u001b[0;34m\u001b[0m\u001b[0m\n\u001b[1;32m      5\u001b[0m \u001b[0mVERBOSE\u001b[0m \u001b[0;34m=\u001b[0m \u001b[0;32mFalse\u001b[0m\u001b[0;34m\u001b[0m\u001b[0;34m\u001b[0m\u001b[0m\n\u001b[0;32m----> 6\u001b[0;31m \u001b[0;32mfrom\u001b[0m \u001b[0msrc\u001b[0m\u001b[0;34m.\u001b[0m\u001b[0mvulfocus\u001b[0m\u001b[0;34m.\u001b[0m\u001b[0mvulfocusClient\u001b[0m \u001b[0;32mimport\u001b[0m \u001b[0mVulfocusClient\u001b[0m\u001b[0;34m\u001b[0m\u001b[0;34m\u001b[0m\u001b[0m\n\u001b[0m\u001b[1;32m      7\u001b[0m \u001b[0;34m\u001b[0m\u001b[0m\n\u001b[1;32m      8\u001b[0m \u001b[0;32mimport\u001b[0m \u001b[0mcredentials\u001b[0m\u001b[0;34m\u001b[0m\u001b[0;34m\u001b[0m\u001b[0m\n",
            "\u001b[0;31mModuleNotFoundError\u001b[0m: No module named 'src'",
            "",
            "\u001b[0;31m---------------------------------------------------------------------------\u001b[0;32m\nNOTE: If your import is failing due to a missing package, you can\nmanually install dependencies using either !pip or !apt.\n\nTo view examples of installing some common dependencies, click the\n\"Open Examples\" button below.\n\u001b[0;31m---------------------------------------------------------------------------\u001b[0m\n"
          ],
          "errorDetails": {
            "actions": [
              {
                "action": "open_url",
                "actionText": "Open Examples",
                "url": "/notebooks/snippets/importing_libraries.ipynb"
              }
            ]
          }
        }
      ],
      "source": [
        "import parse_args\n",
        "import sys, os\n",
        "from src.vulfocus.vulfocusClient import VulfocusClient\n",
        "import credentials\n",
        "from datetime import datetime\n",
        "\n",
        "arguments = parse_args.parse()\n",
        "\n",
        "imageFileToRead = open(arguments['image-file'], 'r')\n",
        "nucleiTemplateFileToRead = open(arguments['template-file'], 'r')\n",
        "output_dir = arguments['output-dir']\n",
        "VERBOSE = arguments['verbose']\n",
        "\n",
        "\n",
        "sys.path.insert(0, os.path.dirname(os.path.realpath(__file__)))\n",
        "print( \"Current directory: \"+ os.path.dirname(os.path.realpath(__file__)))\n",
        "\n",
        "\n",
        "clinet = VulfocusClient(username=credentials.USERNAME,licence=credentials.LICENCE)\n",
        "images = clinet.get_images()\n",
        "\n",
        "\n",
        "if(VERBOSE):\n",
        "    print(images)\n",
        "\n",
        "count = 0\n",
        "while True:\n",
        "    count += 1\n",
        " \n",
        "    # Get next line from both files\n",
        "    imageLine = imageFileToRead.readline()\n",
        "    nucleiLine =  nucleiTemplateFileToRead.readline()\n",
        " \n",
        "    # if line is empty\n",
        "    # end of file is reached\n",
        "    if not imageLine:\n",
        "        break\n",
        "    print(\"Starting image name: {} nuclei attack: {}\".format(imageLine.strip(), nucleiLine.strip()))\n",
        "\n",
        "    ## START CONTAINER\n",
        "    startedContainer = clinet.start_container(imageLine)\n",
        "    if(VERBOSE):\n",
        "        print(startedContainer)\n",
        "    startedHost = startedContainer.host\n",
        "    startedHostWithoutPort = startedHost.split(':')[0]\n",
        "    startedPorts = startedContainer.port\n",
        "\n",
        "    # we dont know which port is working for nuclei attack\n",
        "    # why not try all :D\n",
        "    for port in startedPorts.values():\n",
        "\n",
        "        current_time = datetime.now()\n",
        "        \n",
        "        ## NUCLEI ATTACK STARTS HERE\n",
        "        # nucleiCommand = \"nuclei -u http://{} -t {} -debug -markdown-export ./nuclei_results\".format(startedHostWithoutPort +\":\"+ port, nucleiLine.strip())\n",
        "        nucleiCommand = f'nuclei -u http://{startedHostWithoutPort}:{port} -t {nucleiLine.strip()} -debug -markdown-export {output_dir}_{current_time.year}-{current_time.month}-{current_time.day}_{current_time.hour}:{current_time.minute}'\n",
        "        cwd = os.path.dirname(os.path.realpath(__file__))\n",
        "\n",
        "        print(\"Switching to current working directory\")\n",
        "        commandResult1 = os.system(\"cd \"+cwd)\n",
        "        \n",
        "        print(\"Running nuclei attack with port: {} :D Hope it will find something.\".format(port))\n",
        "        try:\n",
        "            commandResult2 = os.system(nucleiCommand)\n",
        "        except:\n",
        "            print(\"Failed to execute nuclei command\")\n",
        "        ## NUCLEI ATTACK ENDS HERE\n",
        "\n",
        "        ## STOP AND DELETE CONTAINER\n",
        "        #print(clinet.stop_container(imageLine))\n",
        "        #print(clinet.delete_container(imageLine))\n",
        "\n",
        "\n",
        "\n"
      ]
    }
  ]
}
