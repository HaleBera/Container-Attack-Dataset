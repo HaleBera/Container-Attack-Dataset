{
  "nbformat": 4,
  "nbformat_minor": 0,
  "metadata": {
    "colab": {
      "name": "VulfocusAutomate.ipynb",
      "provenance": [],
      "collapsed_sections": [],
      "authorship_tag": "ABX9TyN+HQ9ZuaZ+zoRGsSLxgcg5",
      "include_colab_link": true
    },
    "kernelspec": {
      "name": "python3",
      "display_name": "Python 3"
    },
    "language_info": {
      "name": "python"
    }
  },
  "cells": [
    {
      "cell_type": "markdown",
      "metadata": {
        "id": "view-in-github",
        "colab_type": "text"
      },
      "source": [
        "<a href=\"https://colab.research.google.com/github/HaleBera/Container-Attack-Dataset/blob/main/VulfocusAutomate.ipynb\" target=\"_parent\"><img src=\"https://colab.research.google.com/assets/colab-badge.svg\" alt=\"Open In Colab\"/></a>"
      ]
    },
    {
      "cell_type": "markdown",
      "source": [
        "Some variables should be given as an input to the program:\n",
        "\n",
        "1.   Sytem Path Info (String): '/home/hale/Desktop/TEST_ENVIRONMENT/Vulfocus/vulfocus_automater-master/vulfocusAutomate'\n",
        "2.   File of Image List's Path Info (String): './readyToAttackImages.txt'\n",
        "3.   File of Nuclei Attack List's Path Info (String): './readyToAttackNucleiTemplates.txt'\n",
        "4.   File where Nuclei exports its results (String):'./nuclei_results'\n",
        "     (We need a mini coding that will add the date-time info at the end of the results file name i.e. nuclei_results_10-04-2022_14:26)\n",
        "\n",
        " "
      ],
      "metadata": {
        "id": "HlTVN9Pvuqtq"
      }
    },
    {
      "cell_type": "markdown",
      "source": [
        "Some coding segments are needed to be rewrited to be able to start multiple containers at the same time (Or if is not possible \"at the same time\", we may try to start and close one-by-one) \n",
        "*   ## START CONTAINER\n",
        "\n",
        "      startedContainer = clinet.start_container(imageLine)\n",
        "      \n",
        "*   ## STOP AND DELETE CONTAINER\n",
        "        #print(clinet.stop_container(imageLine))\n",
        "        #print(clinet.delete_container(imageLine))\n",
        "\n"
      ],
      "metadata": {
        "id": "zDNKcWJt7HFE"
      }
    },
    {
      "cell_type": "code",
      "execution_count": null,
      "metadata": {
        "id": "pu0ZomD_ohCK"
      },
      "outputs": [],
      "source": [
        "import sys\n",
        "sys.path.insert(0, '/home/hale/Desktop/TEST_ENVIRONMENT/Vulfocus/vulfocus_automater-master/vulfocusAutomate')\n",
        "\n",
        "import os\n",
        "VERBOSE = False\n",
        "from src.vulfocus.vulfocusClient import VulfocusClient\n",
        "\n",
        "import credentials\n",
        "clinet = VulfocusClient(username=credentials.USERNAME,licence=credentials.LICENCE)\n",
        "images = clinet.get_images()\n",
        "\n",
        "# Input File Variables\n",
        "imageFileToRead = open('./readyToAttackImages.txt', 'r')\n",
        "nucleiTemplateFileToRead = open('./readyToAttackNucleiTemplates.txt', 'r')\n",
        "\n",
        "if(VERBOSE):\n",
        "    print(images)\n",
        "\n",
        "# Main Loop\n",
        "count = 0\n",
        "while True:\n",
        "    count += 1\n",
        " \n",
        "    # Get next line from both files\n",
        "    imageLine = imageFileToRead.readline()\n",
        "    nucleiLine =  nucleiTemplateFileToRead.readline()\n",
        " \n",
        "    # if line is empty\n",
        "    # end of file is reached\n",
        "    if not imageLine:\n",
        "        break\n",
        "    print(\"Starting image name: {} nuclei attack: {}\".format(imageLine.strip(), nucleiLine.strip()))\n",
        "\n",
        "    ## START CONTAINER\n",
        "    startedContainer = clinet.start_container(imageLine)\n",
        "    if(VERBOSE):\n",
        "        print(startedContainer)\n",
        "    startedHost = startedContainer.host\n",
        "    stertedHostWithoutPort = startedHost.split(':')[0]\n",
        "    startedPorts = startedContainer.port\n",
        "\n",
        "    # we dont know which port is working for nuclei attack\n",
        "    # why not try all :D\n",
        "    for port in startedPorts.values():\n",
        "        \n",
        "        ## NUCLEI ATTACK STARTS HERE\n",
        "        nucleiCommand = \"sudo nuclei -u http://{} -t {} -debug -markdown-export ./nuclei_results\".format(stertedHostWithoutPort +\":\"+ port, nucleiLine.strip())\n",
        "        cwd = os.path.dirname(os.path.realpath(__file__))\n",
        "\n",
        "        print(\"Switching to current working directory\")\n",
        "        commandResult1 = os.system(\"cd \"+cwd)\n",
        "        \n",
        "        print(\"Running nuclei attack with port: {} :D Hope it will find something.\".format(port))\n",
        "        try:\n",
        "            commandResult2 = os.system(nucleiCommand)\n",
        "        except:\n",
        "            print(\"Failed to execute nuclei command\")\n",
        "        ## NUCLEI ATTACK ENDS HERE\n",
        "\n",
        "        ## STOP AND DELETE CONTAINER\n",
        "        #print(clinet.stop_container(imageLine))\n",
        "        #print(clinet.delete_container(imageLine))\n",
        "\n",
        "\n"
      ]
    }
  ]
}